{
 "cells": [
  {
   "cell_type": "code",
   "execution_count": 9,
   "metadata": {},
   "outputs": [],
   "source": [
    "# Importing library pytesseract,install the tesseract-ocr,adding the path of it.\n",
    "import pytesseract as tss\n",
    "tss.pytesseract.tesseract_cmd = r'C:\\Program Files\\Tesseract-OCR\\tesseract.exe'"
   ]
  },
  {
   "cell_type": "code",
   "execution_count": 28,
   "metadata": {},
   "outputs": [],
   "source": [
    "#importing the library\n",
    "from PIL import Image\n",
    "import datefinder"
   ]
  },
  {
   "cell_type": "code",
   "execution_count": 30,
   "metadata": {},
   "outputs": [
    {
     "name": "stdout",
     "output_type": "stream",
     "text": [
      "enter the image name with absolute path C:\\Users\\ravit\\Downloads\\Receipts\\6e6c8022.jpeg\n"
     ]
    }
   ],
   "source": [
    "#Importing the user input image\n",
    "imageFileName =input(\"enter the image name with absolute path \")"
   ]
  },
  {
   "cell_type": "code",
   "execution_count": 31,
   "metadata": {},
   "outputs": [],
   "source": [
    "#openin the image file path that we have given\n",
    "img = Image.open(imageFileName)"
   ]
  },
  {
   "cell_type": "code",
   "execution_count": 32,
   "metadata": {},
   "outputs": [],
   "source": [
    "#coverting the image text into string\n",
    "text = tss.image_to_string(img)"
   ]
  },
  {
   "cell_type": "code",
   "execution_count": 33,
   "metadata": {
    "scrolled": true
   },
   "outputs": [
    {
     "name": "stdout",
     "output_type": "stream",
     "text": [
      " \n",
      "  \n",
      "  \n",
      "   \n",
      "  \n",
      "  \n",
      "   \n",
      "   \n",
      "\n",
      "BUY ONE GET ONE FREE QUARTE\n",
      "W/CHEESE OR Ha\n",
      "\n",
      "EGG MCMUF\n",
      "Go to WWW. MCdVOTCe com ntthineg days\n",
      "and tel] us about your visit,\n",
      "Validat jon Code:\n",
      "EXP Tres 30 days after receipt date.\n",
      "Valid at Participating us HcDonald's.\n",
      "Survey Code:\n",
      "14158-13010-62019-07076-00042-7\n",
      "\n",
      "McDonald's Restaurant #14158\n",
      "7221 S. WARREN RD.. (I-69/S.R. 5)\n",
      "WARREN, IN 46762\n",
      "TEL# 260 375 4280\n",
      "\n",
      "KS# 13 06/20/2019 07:07 AM\n",
      "Sidel Order 01\n",
      "\n",
      "| Bac Egg Ch Bis M1-Hb 3.99\n",
      "1 L Coke\n",
      "\n",
      "Subtotal -\n",
      "\n",
      "Toker out Total 4.27\n",
      "\n",
      "fash Tendered 20.27\n",
      "\n",
      "McDonald's Restaurant\n",
      "\n",
      ".00\n",
      "Dhange 16\n",
      "\f",
      "\n"
     ]
    }
   ],
   "source": [
    "#printing the converted text\n",
    "print(text)"
   ]
  },
  {
   "cell_type": "code",
   "execution_count": 35,
   "metadata": {},
   "outputs": [],
   "source": [
    "# By using datefinder funtion we are extracting dates from text\n",
    "matches = datefinder.find_dates(text)"
   ]
  },
  {
   "cell_type": "code",
   "execution_count": 36,
   "metadata": {},
   "outputs": [
    {
     "name": "stdout",
     "output_type": "stream",
     "text": [
      "2069-10-17 00:00:00\n",
      "2020-10-01 00:00:00\n",
      "2020-03-01 00:00:00\n",
      "2020-10-04 00:00:00\n",
      "2020-10-20 00:00:00\n",
      "2020-10-16 00:00:00\n"
     ]
    }
   ],
   "source": [
    "for match in matches:\n",
    "    print(match)"
   ]
  },
  {
   "cell_type": "code",
   "execution_count": null,
   "metadata": {},
   "outputs": [],
   "source": []
  }
 ],
 "metadata": {
  "kernelspec": {
   "display_name": "Python 3",
   "language": "python",
   "name": "python3"
  },
  "language_info": {
   "codemirror_mode": {
    "name": "ipython",
    "version": 3
   },
   "file_extension": ".py",
   "mimetype": "text/x-python",
   "name": "python",
   "nbconvert_exporter": "python",
   "pygments_lexer": "ipython3",
   "version": "3.8.3"
  }
 },
 "nbformat": 4,
 "nbformat_minor": 4
}
